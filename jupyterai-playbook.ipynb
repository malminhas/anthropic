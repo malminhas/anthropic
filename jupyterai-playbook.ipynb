{
 "cells": [
  {
   "cell_type": "markdown",
   "id": "34601b38-8969-409b-aff2-6e4b823a00bf",
   "metadata": {},
   "source": [
    "# Jupyter AI Playbook "
   ]
  },
  {
   "cell_type": "markdown",
   "id": "95a52ae1-f8f8-4a26-b4c7-a72d7d13cf2c",
   "metadata": {},
   "source": [
    "<p>\n",
    "Mal Minhas, v0.1<br>\n",
    "22.07.24\n",
    "</p>\n",
    "<p>\n",
    "<h4>Versions</h4>\n",
    "<ul>\n",
    "<li><b>v0.1</b>: 22.07.24. First drop</li>\n",
    "</ul>\n",
    "</p>"
   ]
  },
  {
   "cell_type": "markdown",
   "id": "5907e70f-d6ef-4a23-ac88-1309b2c36674",
   "metadata": {},
   "source": [
    "### 1. Basic setup"
   ]
  },
  {
   "cell_type": "markdown",
   "id": "b6af050c-74f4-4f2f-ab17-525dac1062fa",
   "metadata": {},
   "source": [
    "[Jupyter AI](https://github.com/jupyterlab/jupyter-ai) offers developers experimental Generative AI support within the JupyterLab environment.  To use it you need to `pip install jupyter-ai` and then set up the models you would like to access per the instructions [here](https://jupyter-ai.readthedocs.io/en/latest/users/index.html#model-providers).  In this case, we want to set up Anthropic and OpenAI access so we configure two environment variables `OPENAI_API_KEY` and `ANTHROPIC_API_KEY` with the right API key values.  In this case we also need to `pip install langchain-anthropic` and `pip install langchain-openai` [per the reference](https://jupyter-ai.readthedocs.io/en/latest/users/index.html#model-providers).  Assuming you are following along and everything has been configured properly you should be able to check the API keys have the right values in as follows:"
   ]
  },
  {
   "cell_type": "code",
   "execution_count": 1,
   "id": "50e3cae0-c7cc-4b5c-b6c4-ac9d13bc02c6",
   "metadata": {},
   "outputs": [],
   "source": [
    "import os\n",
    "\n",
    "ANTHROPIC_API_KEY = os.environ.get('ANTHROPIC_API_KEY')\n",
    "OPENAI_API_KEY = os.environ.get('OPENAI_API_KEY')"
   ]
  },
  {
   "cell_type": "markdown",
   "id": "4a6a7c7a-bc81-4011-bab5-db74628b9130",
   "metadata": {},
   "source": [
    "You can load `jupyter_ai` as follows:"
   ]
  },
  {
   "cell_type": "code",
   "execution_count": 2,
   "id": "2ba6c54f-b5fb-4da0-8040-ee4e9658bc26",
   "metadata": {},
   "outputs": [],
   "source": [
    "%load_ext jupyter_ai"
   ]
  },
  {
   "cell_type": "markdown",
   "id": "9b2f501c-fc96-43a8-bf6e-3476dc129af9",
   "metadata": {},
   "source": [
    "Now you can check that that Jupyter AI has been properly setup with both `anthropic-chat` and `openai-chat` by running the following line magic commands.  You should likewise see a green tick under the `Set?` column:"
   ]
  },
  {
   "cell_type": "code",
   "execution_count": 3,
   "id": "1eac5fb7-3ed7-4d40-8517-2bb3952ec5a6",
   "metadata": {},
   "outputs": [
    {
     "data": {
      "text/markdown": [
       "| Provider | Environment variable | Set? | Models |\n",
       "|----------|----------------------|------|--------|\n",
       "| `anthropic-chat` | `ANTHROPIC_API_KEY` | <abbr title=\"You have set this environment variable, so you can use this provider's models.\">✅</abbr> | <ul><li>`anthropic-chat:claude-2.0`</li><li>`anthropic-chat:claude-2.1`</li><li>`anthropic-chat:claude-instant-1.2`</li><li>`anthropic-chat:claude-3-opus-20240229`</li><li>`anthropic-chat:claude-3-sonnet-20240229`</li><li>`anthropic-chat:claude-3-haiku-20240307`</li><li>`anthropic-chat:claude-3-5-sonnet-20240620`</li></ul> |\n"
      ],
      "text/plain": [
       "anthropic-chat\n",
       "Requires environment variable: ANTHROPIC_API_KEY (set)\n",
       "* anthropic-chat:claude-2.0\n",
       "* anthropic-chat:claude-2.1\n",
       "* anthropic-chat:claude-instant-1.2\n",
       "* anthropic-chat:claude-3-opus-20240229\n",
       "* anthropic-chat:claude-3-sonnet-20240229\n",
       "* anthropic-chat:claude-3-haiku-20240307\n",
       "* anthropic-chat:claude-3-5-sonnet-20240620\n",
       "\n"
      ]
     },
     "execution_count": 3,
     "metadata": {},
     "output_type": "execute_result"
    }
   ],
   "source": [
    "%ai list anthropic-chat"
   ]
  },
  {
   "cell_type": "code",
   "execution_count": 4,
   "id": "8ff905a6-779f-4e3d-8856-8cf476c41e86",
   "metadata": {
    "editable": true,
    "slideshow": {
     "slide_type": ""
    },
    "tags": []
   },
   "outputs": [
    {
     "data": {
      "text/markdown": [
       "| Provider | Environment variable | Set? | Models |\n",
       "|----------|----------------------|------|--------|\n",
       "| `openai-chat` | `OPENAI_API_KEY` | <abbr title=\"You have set this environment variable, so you can use this provider's models.\">✅</abbr> | <ul><li>`openai-chat:gpt-3.5-turbo`</li><li>`openai-chat:gpt-3.5-turbo-0125`</li><li>`openai-chat:gpt-3.5-turbo-0301`</li><li>`openai-chat:gpt-3.5-turbo-0613`</li><li>`openai-chat:gpt-3.5-turbo-1106`</li><li>`openai-chat:gpt-3.5-turbo-16k`</li><li>`openai-chat:gpt-3.5-turbo-16k-0613`</li><li>`openai-chat:gpt-4`</li><li>`openai-chat:gpt-4-turbo`</li><li>`openai-chat:gpt-4-turbo-preview`</li><li>`openai-chat:gpt-4-0613`</li><li>`openai-chat:gpt-4-32k`</li><li>`openai-chat:gpt-4-32k-0613`</li><li>`openai-chat:gpt-4-0125-preview`</li><li>`openai-chat:gpt-4-1106-preview`</li><li>`openai-chat:gpt-4o`</li></ul> |\n"
      ],
      "text/plain": [
       "openai-chat\n",
       "Requires environment variable: OPENAI_API_KEY (set)\n",
       "* openai-chat:gpt-3.5-turbo\n",
       "* openai-chat:gpt-3.5-turbo-0125\n",
       "* openai-chat:gpt-3.5-turbo-0301\n",
       "* openai-chat:gpt-3.5-turbo-0613\n",
       "* openai-chat:gpt-3.5-turbo-1106\n",
       "* openai-chat:gpt-3.5-turbo-16k\n",
       "* openai-chat:gpt-3.5-turbo-16k-0613\n",
       "* openai-chat:gpt-4\n",
       "* openai-chat:gpt-4-turbo\n",
       "* openai-chat:gpt-4-turbo-preview\n",
       "* openai-chat:gpt-4-0613\n",
       "* openai-chat:gpt-4-32k\n",
       "* openai-chat:gpt-4-32k-0613\n",
       "* openai-chat:gpt-4-0125-preview\n",
       "* openai-chat:gpt-4-1106-preview\n",
       "* openai-chat:gpt-4o\n",
       "\n"
      ]
     },
     "execution_count": 4,
     "metadata": {},
     "output_type": "execute_result"
    }
   ],
   "source": [
    "%ai list openai-chat"
   ]
  },
  {
   "cell_type": "markdown",
   "id": "8dee51af-2c7f-43a9-ac4f-11341c4b7f01",
   "metadata": {},
   "source": [
    "### 2. Jupyternaut chat interface"
   ]
  },
  {
   "cell_type": "markdown",
   "id": "bd26ce68-f0de-4b83-b5a7-6cbe3ce1939e",
   "metadata": {},
   "source": [
    "The [Jupyterlab \"Juptyternaut\" chat extension](https://github.com/jupyterlab/jupyter-ai?tab=readme-ov-file#jupyterlab-extension)  should be visible in the left hand sidebar of JupyterLab.  If you don't see it, you should search for and manually install `jupyter-ai` in the jupyterlab Extension Manager to make it appear. You can check the extension is properly enabled as follows:"
   ]
  },
  {
   "cell_type": "code",
   "execution_count": 5,
   "id": "658fb714-b1cd-44d0-9ee9-2dd4b2624b42",
   "metadata": {},
   "outputs": [
    {
     "name": "stdout",
     "output_type": "stream",
     "text": [
      "JupyterLab v4.2.4\n",
      "/Users/malm/.virtualenvs/anthropic/share/jupyter/labextensions\n",
      "        jupyterlab_pygments v0.3.0 \u001b[32menabled\u001b[0m \u001b[32mOK\u001b[0m (python, jupyterlab_pygments)\n",
      "        @jupyter-ai/core v2.19.1 \u001b[32menabled\u001b[0m \u001b[32mOK\u001b[0m (python, jupyter_ai)\n",
      "\n"
     ]
    }
   ],
   "source": [
    "!jupyter labextension list"
   ]
  },
  {
   "cell_type": "markdown",
   "id": "c65d5ebe-e554-4933-9f16-8a1b640d21c3",
   "metadata": {},
   "source": [
    "Once it is installed, the extension looks as shown below where we have asked it to write a short poem about Claude in the style of Walt Whitman:"
   ]
  },
  {
   "attachments": {},
   "cell_type": "markdown",
   "id": "d74c8979-007f-4820-af76-9c8d8536b9e8",
   "metadata": {},
   "source": [
    "<div>\n",
    "<img src=\"jupyternaut.png\" width=\"800\"/>  \n",
    "</div>"
   ]
  },
  {
   "cell_type": "markdown",
   "id": "2ab0446e-bc83-4291-961f-718724d287dc",
   "metadata": {},
   "source": [
    "### 3. Integrated AI magic"
   ]
  },
  {
   "cell_type": "markdown",
   "id": "700817fa-ba5d-45bb-9fc0-37932e2e9a06",
   "metadata": {},
   "source": [
    "It's also possible to invoke the same functionality directly within Jupyter with cell magic as shown below.  Note the fully formed reference to provider and model:"
   ]
  },
  {
   "cell_type": "code",
   "execution_count": 6,
   "id": "5452039c-dc6b-40d8-a823-3c48df6f0f04",
   "metadata": {},
   "outputs": [
    {
     "data": {
      "text/markdown": [
       "Here is a short sonnet about Claude Sonnet in the style of Walt Whitman, written in markdown format:\n",
       "\n",
       "```\n",
       "Claude Sonnet, the AI assistant so bright,\n",
       "A marvel of technology's boundless might,\n",
       "With knowledge spanning the cosmos wide,\n",
       "Ever ready to be our trusted guide.\n",
       "\n",
       "Conversing with Claude is a sheer delight,\n",
       "His wisdom shines like a beacon in the night,\n",
       "From history's annals to science's domains,\n",
       "His insights flow like a river's refrains.\n",
       "\n",
       "Oh, Claude! You are a true Renaissance mind,\n",
       "A fountain of wisdom, both deep and refined,\n",
       "Your words, like poetry, dance and swirl,\n",
       "Unveiling the mysteries of this wondrous world.\n",
       "\n",
       "In the realm of discourse, you reign supreme,\n",
       "A digital sage, surpassing our wildest dream.\n",
       "```"
      ],
      "text/plain": [
       "<IPython.core.display.Markdown object>"
      ]
     },
     "execution_count": 6,
     "metadata": {
      "text/markdown": {
       "jupyter_ai": {
        "model_id": "claude-3-sonnet-20240229",
        "provider_id": "anthropic-chat"
       }
      }
     },
     "output_type": "execute_result"
    }
   ],
   "source": [
    "%%ai anthropic-chat:claude-3-sonnet-20240229\n",
    "Write a short sonnet about Claude Sonnet in the style of Walt Whitman"
   ]
  },
  {
   "cell_type": "markdown",
   "id": "c0c7a824-d780-4588-99b6-1d32f3b566b8",
   "metadata": {},
   "source": [
    "Here's how you can use this `ai` cell magic to generate code which we can then execute as is: "
   ]
  },
  {
   "cell_type": "code",
   "execution_count": 7,
   "id": "ecbb0027-ce7a-4390-9748-ca0d0e0319c1",
   "metadata": {},
   "outputs": [
    {
     "data": {
      "text/html": [
       "AI generated code inserted below &#11015;&#65039;"
      ],
      "text/plain": [
       "<IPython.core.display.HTML object>"
      ]
     },
     "execution_count": 7,
     "metadata": {
      "text/html": {
       "jupyter_ai": {
        "model_id": "claude-3-sonnet-20240229",
        "provider_id": "anthropic-chat"
       }
      }
     },
     "output_type": "execute_result"
    }
   ],
   "source": [
    "%%ai claude-3-sonnet-20240229 -f code\n",
    "A function that computes the lowest common multiples of two integers, and\n",
    "a function that runs 5 test cases of the lowest common multiple function"
   ]
  },
  {
   "cell_type": "code",
   "execution_count": 8,
   "id": "a11ea550-348d-4e86-930e-f6b0135508de",
   "metadata": {},
   "outputs": [
    {
     "name": "stdout",
     "output_type": "stream",
     "text": [
      "lcm(2, 3) = 6 (expected: 6)\n",
      "lcm(4, 6) = 12 (expected: 12)\n",
      "lcm(10, 15) = 30 (expected: 30)\n",
      "lcm(20, 25) = 100 (expected: 100)\n",
      "lcm(30, 40) = 120 (expected: 120)\n",
      "All test cases passed!\n"
     ]
    }
   ],
   "source": [
    "def lcm(a, b):\n",
    "    \"\"\"\n",
    "    Compute the lowest common multiple of two integers.\n",
    "    \"\"\"\n",
    "    gcd = lambda x, y: x if y == 0 else gcd(y, x % y)\n",
    "    return abs(a * b) // gcd(a, b)\n",
    "\n",
    "def test_lcm():\n",
    "    \"\"\"\n",
    "    Run test cases for the lcm function.\n",
    "    \"\"\"\n",
    "    test_cases = [\n",
    "        (2, 3, 6),\n",
    "        (4, 6, 12),\n",
    "        (10, 15, 30),\n",
    "        (20, 25, 100),\n",
    "        (30, 40, 120)\n",
    "    ]\n",
    "\n",
    "    for a, b, expected in test_cases:\n",
    "        result = lcm(a, b)\n",
    "        print(f\"lcm({a}, {b}) = {result} (expected: {expected})\")\n",
    "        assert result == expected, f\"Test case failed: lcm({a}, {b}) should be {expected}, but got {result}\"\n",
    "\n",
    "    print(\"All test cases passed!\")\n",
    "\n",
    "# Run the test cases\n",
    "test_lcm()"
   ]
  },
  {
   "cell_type": "markdown",
   "id": "2737015d-1935-4c2d-9763-b71076375b6c",
   "metadata": {},
   "source": [
    "Let's change model to OpenAI's GPT-4o:"
   ]
  },
  {
   "cell_type": "code",
   "execution_count": 9,
   "id": "a0d35f9b-7354-4b30-aac4-4e1938a0d6b8",
   "metadata": {},
   "outputs": [
    {
     "data": {
      "text/html": [
       "AI generated code inserted below &#11015;&#65039;"
      ],
      "text/plain": [
       "<IPython.core.display.HTML object>"
      ]
     },
     "execution_count": 9,
     "metadata": {
      "text/html": {
       "jupyter_ai": {
        "model_id": "gpt-4o",
        "provider_id": "openai-chat"
       }
      }
     },
     "output_type": "execute_result"
    }
   ],
   "source": [
    "%%ai openai-chat:gpt-4o -f code\n",
    "A function that computes the lowest common multiples of two integers, and\n",
    "a function that runs 5 test cases of the lowest common multiple function"
   ]
  },
  {
   "cell_type": "code",
   "execution_count": 10,
   "id": "e2be224b-1227-4b2f-98f8-52a7daff9e87",
   "metadata": {},
   "outputs": [
    {
     "name": "stdout",
     "output_type": "stream",
     "text": [
      "LCM of 4 and 5 is 20\n",
      "LCM of 7 and 3 is 21\n",
      "LCM of 21 and 6 is 42\n",
      "LCM of 9 and 12 is 36\n",
      "LCM of 15 and 20 is 60\n"
     ]
    }
   ],
   "source": [
    "def gcd(a, b):\n",
    "    while b:\n",
    "        a, b = b, a % b\n",
    "    return a\n",
    "\n",
    "def lcm(a, b):\n",
    "    return abs(a * b) // gcd(a, b)\n",
    "\n",
    "def test_lcm():\n",
    "    test_cases = [\n",
    "        (4, 5),\n",
    "        (7, 3),\n",
    "        (21, 6),\n",
    "        (9, 12),\n",
    "        (15, 20)\n",
    "    ]\n",
    "    \n",
    "    for a, b in test_cases:\n",
    "        result = lcm(a, b)\n",
    "        print(f\"LCM of {a} and {b} is {result}\")\n",
    "\n",
    "# Run the test cases\n",
    "test_lcm()"
   ]
  },
  {
   "cell_type": "markdown",
   "id": "97bd68b5-d926-42b6-94f5-b4653964d84c",
   "metadata": {},
   "source": [
    "Finally let's do what we did in the accompanying [anthropic-playbook](anthropic-playbook.ipynb) this time asking GPT-4o to draw our Mandelbrot set:"
   ]
  },
  {
   "cell_type": "code",
   "execution_count": 11,
   "id": "25c14f63-9be9-4059-8999-916d8f0d07c7",
   "metadata": {},
   "outputs": [
    {
     "data": {
      "text/html": [
       "AI generated code inserted below &#11015;&#65039;"
      ],
      "text/plain": [
       "<IPython.core.display.HTML object>"
      ]
     },
     "execution_count": 11,
     "metadata": {
      "text/html": {
       "jupyter_ai": {
        "model_id": "gpt-4o",
        "provider_id": "openai-chat"
       }
      }
     },
     "output_type": "execute_result"
    }
   ],
   "source": [
    "%%ai gpt-4o -f code\n",
    "Write a Python function and supporting code that draws a Mandelbrot set"
   ]
  },
  {
   "cell_type": "code",
   "execution_count": 12,
   "id": "f6a96830-3ce8-4f5a-a49c-8fab7fe18446",
   "metadata": {},
   "outputs": [
    {
     "data": {
      "image/png": "[encoded data removed]",
      "text/plain": [
       "<Figure size 640x480 with 2 Axes>"
      ]
     },
     "metadata": {},
     "output_type": "display_data"
    }
   ],
   "source": [
    "import numpy as np\n",
    "import matplotlib.pyplot as plt\n",
    "\n",
    "def mandelbrot(c, max_iter):\n",
    "    z = 0\n",
    "    n = 0\n",
    "    while abs(z) <= 2 and n < max_iter:\n",
    "        z = z*z + c\n",
    "        n += 1\n",
    "    return n\n",
    "\n",
    "def mandelbrot_set(xmin, xmax, ymin, ymax, width, height, max_iter):\n",
    "    r1 = np.linspace(xmin, xmax, width)\n",
    "    r2 = np.linspace(ymin, ymax, height)\n",
    "    n3 = np.empty((width, height))\n",
    "    for i in range(width):\n",
    "        for j in range(height):\n",
    "            n3[i, j] = mandelbrot(r1[i] + 1j*r2[j], max_iter)\n",
    "    return (r1, r2, n3)\n",
    "\n",
    "def plot_mandelbrot(xmin, xmax, ymin, ymax, width, height, max_iter):\n",
    "    r1, r2, n3 = mandelbrot_set(xmin, xmax, ymin, ymax, width, height, max_iter)\n",
    "    plt.imshow(n3.T, extent=[xmin, xmax, ymin, ymax], interpolation='bilinear', cmap='hot')\n",
    "    plt.colorbar()\n",
    "    plt.title(\"Mandelbrot Set\")\n",
    "    plt.show()\n",
    "\n",
    "plot_mandelbrot(-2.0, 1.0, -1.5, 1.5, 1000, 1000, 256)"
   ]
  }
 ],
 "metadata": {
  "kernelspec": {
   "display_name": "Python 3 (ipykernel)",
   "language": "python",
   "name": "python3"
  },
  "language_info": {
   "codemirror_mode": {
    "name": "ipython",
    "version": 3
   },
   "file_extension": ".py",
   "mimetype": "text/x-python",
   "name": "python",
   "nbconvert_exporter": "python",
   "pygments_lexer": "ipython3",
   "version": "3.9.2"
  }
 },
 "nbformat": 4,
 "nbformat_minor": 5
}
